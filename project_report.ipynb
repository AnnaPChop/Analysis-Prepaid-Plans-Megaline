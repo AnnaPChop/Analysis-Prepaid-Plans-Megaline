{
 "cells": [
  {
   "cell_type": "markdown",
   "id": "7fe68a49",
   "metadata": {},
   "source": [
    " **To**: Megaline Management\n",
    "\n",
    " **From**: Junior Data Scientist\n",
    "\n",
    " **Date**: August 8, 2025\n",
    " \n",
    " **Subject**: Preliminary Analysis of Surf and Ultimate Prepaid Plans\n",
    "\n",
    "# Introduction\n",
    "This report presents a preliminary analysis of Megaline's 'Surf' and 'Ultimate' prepaid plans. The primary goal is to determine which of these two plans generates more revenue. By analyzing the behavior of a sample of 500 customers from 2018, we can gain insights that will help the commercial department make informed decisions about the allocation of the advertising budget."
   ]
  },
  {
   "cell_type": "markdown",
   "id": "8cd2697f",
   "metadata": {},
   "source": [
    "# 1. Data Loading and Initial Exploration\n",
    "First, let's load all the necessary libraries and the datasets to get a first look at the data we're working with."
   ]
  },
  {
   "cell_type": "code",
   "execution_count": 5,
   "id": "932fac0f",
   "metadata": {},
   "outputs": [
    {
     "name": "stdout",
     "output_type": "stream",
     "text": [
      "Initial Data Info:\n",
      "<class 'pandas.core.frame.DataFrame'>\n",
      "RangeIndex: 500 entries, 0 to 499\n",
      "Data columns (total 8 columns):\n",
      " #   Column      Non-Null Count  Dtype \n",
      "---  ------      --------------  ----- \n",
      " 0   user_id     500 non-null    int64 \n",
      " 1   first_name  500 non-null    object\n",
      " 2   last_name   500 non-null    object\n",
      " 3   age         500 non-null    int64 \n",
      " 4   city        500 non-null    object\n",
      " 5   reg_date    500 non-null    object\n",
      " 6   plan        500 non-null    object\n",
      " 7   churn_date  34 non-null     object\n",
      "dtypes: int64(2), object(6)\n",
      "memory usage: 31.4+ KB\n",
      "<class 'pandas.core.frame.DataFrame'>\n",
      "RangeIndex: 137735 entries, 0 to 137734\n",
      "Data columns (total 4 columns):\n",
      " #   Column     Non-Null Count   Dtype  \n",
      "---  ------     --------------   -----  \n",
      " 0   id         137735 non-null  object \n",
      " 1   user_id    137735 non-null  int64  \n",
      " 2   call_date  137735 non-null  object \n",
      " 3   duration   137735 non-null  float64\n",
      "dtypes: float64(1), int64(1), object(2)\n",
      "memory usage: 4.2+ MB\n",
      "<class 'pandas.core.frame.DataFrame'>\n",
      "RangeIndex: 76051 entries, 0 to 76050\n",
      "Data columns (total 3 columns):\n",
      " #   Column        Non-Null Count  Dtype \n",
      "---  ------        --------------  ----- \n",
      " 0   id            76051 non-null  object\n",
      " 1   user_id       76051 non-null  int64 \n",
      " 2   message_date  76051 non-null  object\n",
      "dtypes: int64(1), object(2)\n",
      "memory usage: 1.7+ MB\n",
      "<class 'pandas.core.frame.DataFrame'>\n",
      "RangeIndex: 104825 entries, 0 to 104824\n",
      "Data columns (total 4 columns):\n",
      " #   Column        Non-Null Count   Dtype  \n",
      "---  ------        --------------   -----  \n",
      " 0   id            104825 non-null  object \n",
      " 1   user_id       104825 non-null  int64  \n",
      " 2   session_date  104825 non-null  object \n",
      " 3   mb_used       104825 non-null  float64\n",
      "dtypes: float64(1), int64(1), object(2)\n",
      "memory usage: 3.2+ MB\n",
      "<class 'pandas.core.frame.DataFrame'>\n",
      "RangeIndex: 2 entries, 0 to 1\n",
      "Data columns (total 8 columns):\n",
      " #   Column                 Non-Null Count  Dtype  \n",
      "---  ------                 --------------  -----  \n",
      " 0   messages_included      2 non-null      int64  \n",
      " 1   mb_per_month_included  2 non-null      int64  \n",
      " 2   minutes_included       2 non-null      int64  \n",
      " 3   usd_monthly_pay        2 non-null      int64  \n",
      " 4   usd_per_gb             2 non-null      int64  \n",
      " 5   usd_per_message        2 non-null      float64\n",
      " 6   usd_per_minute         2 non-null      float64\n",
      " 7   plan_name              2 non-null      object \n",
      "dtypes: float64(2), int64(5), object(1)\n",
      "memory usage: 260.0+ bytes\n"
     ]
    }
   ],
   "source": [
    "import pandas as pd\n",
    "import numpy as np\n",
    "import matplotlib.pyplot as plt\n",
    "from scipy import stats as st\n",
    "import os\n",
    "\n",
    "try:\n",
    "    calls = pd.read_csv('data/megaline_calls.csv')\n",
    "    internet = pd.read_csv('data/megaline_internet.csv')\n",
    "    messages = pd.read_csv('data/megaline_messages.csv')\n",
    "    plans = pd.read_csv('data/megaline_plans.csv')\n",
    "    users = pd.read_csv('data/megaline_users.csv')\n",
    "except FileNotFoundError as e:\n",
    "    print(f\"Error: {e}. Make sure all CSV files are in the same directory.\")\n",
    "\n",
    "print(\"Initial Data Info:\")\n",
    "users.info()\n",
    "calls.info()\n",
    "messages.info()\n",
    "internet.info()\n",
    "plans.info()"
   ]
  },
  {
   "cell_type": "markdown",
   "id": "f66789e9",
   "metadata": {},
   "source": [
    "### **Initial Observations**\n",
    "- Data Types: Several date columns (reg_date, churn_date, call_date, message_date, session_date) are currently stored as object data types. These will need to be converted to a proper datetime format for time-based analysis.\n",
    "\n",
    "- Missing Values: The churn_date column in the users table has a significant number of missing values. The project description states that if the value is missing, the plan was still in use at the time of data extraction. This is expected and doesn't represent an error.\n",
    "\n",
    "- Call Duration: The duration in the calls table is a float. The plan details specify that call durations are rounded up to the nearest minute for billing. I also note the presence of zero-duration calls, which could represent missed or dropped calls. These still consume resources to connect, so they should be investigated.\n",
    "\n",
    "- Data Volume: Internet usage (mb_used) is given in megabytes. For billing, the total monthly data usage is rounded up to the next gigabyte. This will need to be calculated."
   ]
  }
 ],
 "metadata": {
  "kernelspec": {
   "display_name": "Python 3",
   "language": "python",
   "name": "python3"
  },
  "language_info": {
   "codemirror_mode": {
    "name": "ipython",
    "version": 3
   },
   "file_extension": ".py",
   "mimetype": "text/x-python",
   "name": "python",
   "nbconvert_exporter": "python",
   "pygments_lexer": "ipython3",
   "version": "3.12.4"
  }
 },
 "nbformat": 4,
 "nbformat_minor": 5
}
