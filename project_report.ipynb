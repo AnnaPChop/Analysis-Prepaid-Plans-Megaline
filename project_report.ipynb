{
 "cells": [
  {
   "cell_type": "markdown",
   "id": "7fe68a49",
   "metadata": {},
   "source": [
    " **To**: Megaline Management\n",
    "\n",
    " **From**: Junior Data Scientist\n",
    "\n",
    " **Date**: August 8, 2025\n",
    " \n",
    " **Subject**: Preliminary Analysis of Surf and Ultimate Prepaid Plans\n",
    "\n",
    "# Introduction\n",
    "This report presents a preliminary analysis of Megaline's 'Surf' and 'Ultimate' prepaid plans. The primary goal is to determine which of these two plans generates more revenue. By analyzing the behavior of a sample of 500 customers from 2018, we can gain insights that will help the commercial department make informed decisions about the allocation of the advertising budget."
   ]
  },
  {
   "cell_type": "markdown",
   "id": "8cd2697f",
   "metadata": {},
   "source": [
    "# 1. Data Loading and Initial Exploration\n",
    "First, let's load all the necessary libraries and the datasets to get a first look at the data we're working with."
   ]
  },
  {
   "cell_type": "code",
   "execution_count": 5,
   "id": "932fac0f",
   "metadata": {},
   "outputs": [
    {
     "name": "stdout",
     "output_type": "stream",
     "text": [
      "Initial Data Info:\n",
      "<class 'pandas.core.frame.DataFrame'>\n",
      "RangeIndex: 500 entries, 0 to 499\n",
      "Data columns (total 8 columns):\n",
      " #   Column      Non-Null Count  Dtype \n",
      "---  ------      --------------  ----- \n",
      " 0   user_id     500 non-null    int64 \n",
      " 1   first_name  500 non-null    object\n",
      " 2   last_name   500 non-null    object\n",
      " 3   age         500 non-null    int64 \n",
      " 4   city        500 non-null    object\n",
      " 5   reg_date    500 non-null    object\n",
      " 6   plan        500 non-null    object\n",
      " 7   churn_date  34 non-null     object\n",
      "dtypes: int64(2), object(6)\n",
      "memory usage: 31.4+ KB\n",
      "<class 'pandas.core.frame.DataFrame'>\n",
      "RangeIndex: 137735 entries, 0 to 137734\n",
      "Data columns (total 4 columns):\n",
      " #   Column     Non-Null Count   Dtype  \n",
      "---  ------     --------------   -----  \n",
      " 0   id         137735 non-null  object \n",
      " 1   user_id    137735 non-null  int64  \n",
      " 2   call_date  137735 non-null  object \n",
      " 3   duration   137735 non-null  float64\n",
      "dtypes: float64(1), int64(1), object(2)\n",
      "memory usage: 4.2+ MB\n",
      "<class 'pandas.core.frame.DataFrame'>\n",
      "RangeIndex: 76051 entries, 0 to 76050\n",
      "Data columns (total 3 columns):\n",
      " #   Column        Non-Null Count  Dtype \n",
      "---  ------        --------------  ----- \n",
      " 0   id            76051 non-null  object\n",
      " 1   user_id       76051 non-null  int64 \n",
      " 2   message_date  76051 non-null  object\n",
      "dtypes: int64(1), object(2)\n",
      "memory usage: 1.7+ MB\n",
      "<class 'pandas.core.frame.DataFrame'>\n",
      "RangeIndex: 104825 entries, 0 to 104824\n",
      "Data columns (total 4 columns):\n",
      " #   Column        Non-Null Count   Dtype  \n",
      "---  ------        --------------   -----  \n",
      " 0   id            104825 non-null  object \n",
      " 1   user_id       104825 non-null  int64  \n",
      " 2   session_date  104825 non-null  object \n",
      " 3   mb_used       104825 non-null  float64\n",
      "dtypes: float64(1), int64(1), object(2)\n",
      "memory usage: 3.2+ MB\n",
      "<class 'pandas.core.frame.DataFrame'>\n",
      "RangeIndex: 2 entries, 0 to 1\n",
      "Data columns (total 8 columns):\n",
      " #   Column                 Non-Null Count  Dtype  \n",
      "---  ------                 --------------  -----  \n",
      " 0   messages_included      2 non-null      int64  \n",
      " 1   mb_per_month_included  2 non-null      int64  \n",
      " 2   minutes_included       2 non-null      int64  \n",
      " 3   usd_monthly_pay        2 non-null      int64  \n",
      " 4   usd_per_gb             2 non-null      int64  \n",
      " 5   usd_per_message        2 non-null      float64\n",
      " 6   usd_per_minute         2 non-null      float64\n",
      " 7   plan_name              2 non-null      object \n",
      "dtypes: float64(2), int64(5), object(1)\n",
      "memory usage: 260.0+ bytes\n"
     ]
    }
   ],
   "source": [
    "import pandas as pd\n",
    "import numpy as np\n",
    "import matplotlib.pyplot as plt\n",
    "from scipy import stats as st\n",
    "import os\n",
    "\n",
    "try:\n",
    "    calls = pd.read_csv('data/megaline_calls.csv')\n",
    "    internet = pd.read_csv('data/megaline_internet.csv')\n",
    "    messages = pd.read_csv('data/megaline_messages.csv')\n",
    "    plans = pd.read_csv('data/megaline_plans.csv')\n",
    "    users = pd.read_csv('data/megaline_users.csv')\n",
    "except FileNotFoundError as e:\n",
    "    print(f\"Error: {e}. Make sure all CSV files are in the same directory.\")\n",
    "\n",
    "print(\"Initial Data Info:\")\n",
    "users.info()\n",
    "calls.info()\n",
    "messages.info()\n",
    "internet.info()\n",
    "plans.info()"
   ]
  },
  {
   "cell_type": "markdown",
   "id": "f66789e9",
   "metadata": {},
   "source": [
    "### **Initial Observations**\n",
    "- Data Types: Several date columns (reg_date, churn_date, call_date, message_date, session_date) are currently stored as object data types. These will need to be converted to a proper datetime format for time-based analysis.\n",
    "\n",
    "- Missing Values: The churn_date column in the users table has a significant number of missing values. The project description states that if the value is missing, the plan was still in use at the time of data extraction. This is expected and doesn't represent an error.\n",
    "\n",
    "- Call Duration: The duration in the calls table is a float. The plan details specify that call durations are rounded up to the nearest minute for billing. I also note the presence of zero-duration calls, which could represent missed or dropped calls. These still consume resources to connect, so they should be investigated.\n",
    "\n",
    "- Data Volume: Internet usage (mb_used) is given in megabytes. For billing, the total monthly data usage is rounded up to the next gigabyte. This will need to be calculated."
   ]
  },
  {
   "cell_type": "markdown",
   "id": "3d58757b",
   "metadata": {},
   "source": [
    "# 2. Data Preparation\n",
    "In this step, I will clean and transform the data to make it suitable for analysis. This includes converting data types, creating a month column for aggregation, and rounding values according to the plan rules.\n",
    "\n",
    "I will then aggregate the data to calculate the monthly usage for each customer and merge all the information into a single, comprehensive DataFrame. Finally, I will calculate the monthly revenue generated by each user."
   ]
  },
  {
   "cell_type": "code",
   "execution_count": 7,
   "id": "1a2f90e8",
   "metadata": {},
   "outputs": [
    {
     "name": "stdout",
     "output_type": "stream",
     "text": [
      "Data preparation complete.\n"
     ]
    }
   ],
   "source": [
    "# Convert date columns to datetime objects\n",
    "users['reg_date'] = pd.to_datetime(users['reg_date'], format='%Y-%m-%d')\n",
    "users['churn_date'] = pd.to_datetime(users['churn_date'], format='%Y-%m-%d')\n",
    "calls['call_date'] = pd.to_datetime(calls['call_date'], format='%Y-%m-%d')\n",
    "messages['message_date'] = pd.to_datetime(messages['message_date'], format='%Y-%m-%d')\n",
    "internet['session_date'] = pd.to_datetime(internet['session_date'], format='%Y-%m-%d')\n",
    "\n",
    "# Round up call durations and convert to integer\n",
    "calls['duration'] = np.ceil(calls['duration']).astype(int)\n",
    "\n",
    "# Add a 'month' column\n",
    "calls['month'] = calls['call_date'].dt.month\n",
    "messages['month'] = messages['message_date'].dt.month\n",
    "internet['month'] = internet['session_date'].dt.month\n",
    "\n",
    "# Aggregate data per user per month\n",
    "calls_agg = calls.groupby(['user_id', 'month']).agg(total_calls=('id', 'count'), total_minutes=('duration', 'sum')).reset_index()\n",
    "messages_agg = messages.groupby(['user_id', 'month']).agg(total_messages=('id', 'count')).reset_index()\n",
    "internet_agg = internet.groupby(['user_id', 'month']).agg(total_mb_used=('mb_used', 'sum')).reset_index()\n",
    "\n",
    "# Merge aggregated data\n",
    "merged_data = pd.merge(calls_agg, messages_agg, on=['user_id', 'month'], how='outer')\n",
    "merged_data = pd.merge(merged_data, internet_agg, on=['user_id', 'month'], how='outer')\n",
    "\n",
    "# Merge with user and plan information\n",
    "merged_data = pd.merge(merged_data, users, on='user_id', how='left')\n",
    "plans.rename(columns={'plan_name': 'plan'}, inplace=True)\n",
    "merged_data = pd.merge(merged_data, plans, on='plan', how='left')\n",
    "\n",
    "# Fill NaN values with 0 for usage columns\n",
    "usage_cols = ['total_calls', 'total_minutes', 'total_messages', 'total_mb_used']\n",
    "for col in usage_cols:\n",
    "    merged_data[col] = merged_data[col].fillna(0)\n",
    "\n",
    "# Convert mb to gb for plan inclusion and usage\n",
    "merged_data['gb_per_month_included'] = merged_data['mb_per_month_included'] / 1024\n",
    "merged_data['total_gb_used'] = np.ceil(merged_data['total_mb_used'] / 1024)\n",
    "\n",
    "# Function to calculate monthly revenue\n",
    "def calculate_revenue(row):\n",
    "    plan_monthly_fee = row['usd_monthly_pay']\n",
    "    minutes_over = max(0, row['total_minutes'] - row['minutes_included'])\n",
    "    minutes_overage_cost = minutes_over * row['usd_per_minute']\n",
    "    messages_over = max(0, row['total_messages'] - row['messages_included'])\n",
    "    messages_overage_cost = messages_over * row['usd_per_message']\n",
    "    gb_over = max(0, row['total_gb_used'] - row['gb_per_month_included'])\n",
    "    gb_overage_cost = gb_over * row['usd_per_gb']\n",
    "    return plan_monthly_fee + minutes_overage_cost + messages_overage_cost + gb_overage_cost\n",
    "\n",
    "merged_data['revenue'] = merged_data.apply(calculate_revenue, axis=1)\n",
    "print(\"Data preparation complete.\")"
   ]
  },
  {
   "cell_type": "markdown",
   "id": "bbff053e",
   "metadata": {},
   "source": [
    "The data is now clean, merged, and ready for analysis. The merged_data DataFrame contains all the necessary information, including user details, plan specifics, monthly usage, and the calculated monthly revenue."
   ]
  },
  {
   "cell_type": "markdown",
   "id": "ec495326",
   "metadata": {},
   "source": [
    "# 3. Data Analysis\n",
    "Now, I will analyze the prepared data to understand the behavior of customers on the 'Surf' and 'Ultimate' plans. I will calculate the mean, variance, and standard deviation of their monthly usage (minutes, messages, and data) and then create histograms to visualize and compare the distributions."
   ]
  },
  {
   "cell_type": "code",
   "execution_count": null,
   "id": "7915fe0c",
   "metadata": {},
   "outputs": [
    {
     "ename": "IndentationError",
     "evalue": "unexpected indent (1978462413.py, line 14)",
     "output_type": "error",
     "traceback": [
      "\u001b[1;36m  Cell \u001b[1;32mIn[8], line 14\u001b[1;36m\u001b[0m\n\u001b[1;33m    print(\"--- Plan Usage Analysis ---\")\u001b[0m\n\u001b[1;37m    ^\u001b[0m\n\u001b[1;31mIndentationError\u001b[0m\u001b[1;31m:\u001b[0m unexpected indent\n"
     ]
    }
   ],
   "source": [
    "plan_analysis = merged_data.groupby('plan').agg(\n",
    "    mean_revenue=('revenue', 'mean'),\n",
    "    median_revenue=('revenue', 'median'),\n",
    "    mean_minutes=('total_minutes', 'mean'),\n",
    "    std_dev_minutes=('total_minutes', 'std'),\n",
    "    var_minutes=('total_minutes', 'var'),\n",
    "    mean_messages=('total_messages', 'mean'),\n",
    "    std_dev_messages=('total_messages', 'std'),\n",
    "    var_messages=('total_messages', 'var'),\n",
    "    mean_gb=('total_gb_used', 'mean'),\n",
    "    std_dev_gb=('total_gb_used', 'std'),\n",
    "    var_gb=('total_gb_used', 'var')\n",
    ")\n",
    "print(\"--- Plan Usage Analysis ---\")\n",
    "print(plan_analysis)\n",
    "\n",
    "# Create a directory for plots if it doesn't exist\n",
    "if not os.path.exists('plots'):\n",
    "    os.makedirs('plots')\n",
    "\n",
    "# Plot histograms\n",
    "for metric in ['total_minutes', 'total_messages', 'total_gb_used', 'revenue']:\n",
    "    plt.figure(figsize=(10, 6))\n",
    "    for plan in merged_data['plan'].unique():\n",
    "        subset = merged_data[merged_data['plan'] == plan]\n",
    "        plt.hist(subset[metric], bins=30, alpha=0.7, label=plan)\n",
    "    title_metric = metric.replace('_', ' ').title()\n",
    "    plt.title(f'Distribution of Monthly {title_metric} per Plan')\n",
    "    plt.xlabel(title_metric)\n",
    "    plt.ylabel('Frequency')\n",
    "    plt.legend()\n",
    "    plt.grid(True)\n",
    "    plt.savefig(f'plots/histogram_{metric}.png')\n",
    "    plt.close() # Close the plot to avoid displaying it in the console\n",
    "print(\"Histograms saved in 'plots' directory.\")"
   ]
  }
 ],
 "metadata": {
  "kernelspec": {
   "display_name": "Python 3",
   "language": "python",
   "name": "python3"
  },
  "language_info": {
   "codemirror_mode": {
    "name": "ipython",
    "version": 3
   },
   "file_extension": ".py",
   "mimetype": "text/x-python",
   "name": "python",
   "nbconvert_exporter": "python",
   "pygments_lexer": "ipython3",
   "version": "3.12.4"
  }
 },
 "nbformat": 4,
 "nbformat_minor": 5
}
