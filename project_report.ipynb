{
 "cells": [
  {
   "cell_type": "markdown",
   "id": "7fe68a49",
   "metadata": {},
   "source": [
    " **To**: Megaline Management\n",
    "\n",
    " **From**: Junior Data Scientist\n",
    "\n",
    " **Date**: August 8, 2025\n",
    " \n",
    " **Subject**: Preliminary Analysis of Surf and Ultimate Prepaid Plans\n",
    "\n",
    "# Introduction\n",
    "This report presents a preliminary analysis of Megaline's 'Surf' and 'Ultimate' prepaid plans. The primary goal is to determine which of these two plans generates more revenue. By analyzing the behavior of a sample of 500 customers from 2018, we can gain insights that will help the commercial department make informed decisions about the allocation of the advertising budget."
   ]
  }
 ],
 "metadata": {
  "language_info": {
   "name": "python"
  }
 },
 "nbformat": 4,
 "nbformat_minor": 5
}
